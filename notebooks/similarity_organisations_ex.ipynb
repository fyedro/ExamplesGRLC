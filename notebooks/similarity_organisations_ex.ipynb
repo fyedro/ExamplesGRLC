{
  "nbformat": 4,
  "nbformat_minor": 0,
  "metadata": {
    "colab": {
      "name": "similarity_organisations_ex.ipynb",
      "provenance": [],
      "collapsed_sections": [],
      "include_colab_link": true
    },
    "kernelspec": {
      "name": "python3",
      "display_name": "Python 3"
    }
  },
  "cells": [
    {
      "cell_type": "markdown",
      "metadata": {
        "id": "view-in-github",
        "colab_type": "text"
      },
      "source": [
        "<a href=\"https://colab.research.google.com/github/fyedro/ExamplesGRLC/blob/master/notebooks/similarity_organisations_ex.ipynb\" target=\"_parent\"><img src=\"https://colab.research.google.com/assets/colab-badge.svg\" alt=\"Open In Colab\"/></a>"
      ]
    },
    {
      "cell_type": "markdown",
      "metadata": {
        "id": "kDtY46wE_1D-",
        "colab_type": "text"
      },
      "source": [
        "![TBFY-Banner](https://raw.githubusercontent.com/TBFY/general/master/figures/tbfy-banner.png)"
      ]
    },
    {
      "cell_type": "markdown",
      "metadata": {
        "id": "IEk2U9ZB_5ym",
        "colab_type": "text"
      },
      "source": [
        "# **CERVED Use Case - Given a text in a language, a list of awarded organisations in similar procurement processes will be shown.**"
      ]
    },
    {
      "cell_type": "markdown",
      "metadata": {
        "id": "QaJ46W9NE3MY",
        "colab_type": "text"
      },
      "source": [
        "### Extended Functionality (run it only once)\n",
        "\n",
        "It is required to handle short texts: \n"
      ]
    },
    {
      "cell_type": "code",
      "metadata": {
        "id": "flh9dJTQ92OA",
        "colab_type": "code",
        "colab": {}
      },
      "source": [
        "!pip install pytextrank\n",
        "!pip install langdetect\n",
        "!pip install pysolr\n",
        "!python -m spacy download it\n",
        "!python -m spacy download en\n",
        "!python -m spacy download es\n",
        "!python -m spacy download fr\n",
        "!python -m spacy download pt\n",
        "\n",
        "import spacy\n",
        "import pytextrank\n",
        "import pysolr\n",
        "import it_core_news_sm\n",
        "from langdetect import detect\n",
        "\n",
        "def get_language(text):\n",
        "  try:\n",
        "    lang = detect(text)\n",
        "    return lang\n",
        "  except:\n",
        "    return \"en\"\n",
        "\n",
        "def get_keywords(text):\n",
        "  # load a spaCy model, depending on language, scale, etc.\n",
        "  lang = get_language(text)\n",
        "  nlp = spacy.load(lang)\n",
        "  # add PyTextRank to the spaCy pipeline\n",
        "  tr = pytextrank.TextRank()\n",
        "  nlp.add_pipe(tr.PipelineComponent, name=\"textrank\", last=True)\n",
        "  doc = nlp(text)\n",
        "  # examine the top-ranked phrases in the document\n",
        "  key_words=[]\n",
        "  for p in doc._.phrases:\n",
        "      #print(\"{:.4f} {:5d}  {}\".format(p.rank, p.count, p.text))\n",
        "      key_words.append(p.text)\n",
        "  return key_words\n",
        "\n",
        "def get_topics(document,levels):\n",
        "  topics = []\n",
        "  for level in levels:\n",
        "    if (level in document):\n",
        "      for topic in document[level].split(\" \"):\n",
        "        topics.append(level+\":\"+topic)\n",
        "  filter = \" AND \".join(topics)\n",
        "  return filter\n",
        "\n",
        "\n",
        "def retrieve_documents_from_long_text(request):\n",
        "  print(\"making the query to the SearchAPI..\")\n",
        "  base_url = 'https://tbfy.librairy.linkeddata.es/search-api'\n",
        "  json_request = {\"source\": request['source'], \"size\": request['size'], \"text\" : request['text'], \"lang\": request['lang'] }\n",
        "  resp = requests.post(base_url+'/items', json=json_request)\n",
        "  if resp.status_code != 200:\n",
        "    # This means something went wrong.\n",
        "    print('POST /items/ {}'.format(resp.status_code))\n",
        "    pass\n",
        "  documents = []\n",
        "  for doc in resp.json():    \n",
        "    documents.append({\"id\":doc['id'], \"name_s\":doc['name']})    \n",
        "  return documents  \n",
        "\n",
        "def retrieve_documents_from_short_text(filter_params):\n",
        "  print(\"additional steps to handle short text as input...\")\n",
        "  # Setup a Solr instance. The timeout is optional.\n",
        "  solr = pysolr.Solr('http://librairy.linkeddata.es/solr/tbfy', timeout=10)\n",
        "\n",
        "  # compose a solr query to retrieve the most relevant documents from those keywords\n",
        "  keywords = get_keywords(filter_params['text'])\n",
        "  #print(\"keywords\",keywords)\n",
        "  by_keywords_query = ' OR '.join([\"txt_t:\\\"\"+x+\"\\\"\" for x in keywords])\n",
        "\n",
        "  # search documents by keywords\n",
        "  print(\"making the query to the SearchAPI..\")\n",
        "  filter_query = \"source_s:\"+filter_params['source']\n",
        "  if (filter_params['source'] == \"tender\"):\n",
        "    filter_query += \" AND format_s:kg\"\n",
        "  documents_by_keywords = solr.search(by_keywords_query, fq=filter_query, rows=3)  \n",
        "  topic_levels = ['topics0_t','topics1_t','topics2_t']\n",
        "  high_filter = []\n",
        "  medium_filter = []\n",
        "  for document in documents_by_keywords:\n",
        "    high_filter.append(\"(\"+get_topics(document,topic_levels)+\")\")\n",
        "    medium_filter.append(\"(\"+get_topics(document,topic_levels[:2])+\")\")\n",
        "\n",
        "  topics_query = \" OR \".join(high_filter) + \" OR \" + \" OR \".join(medium_filter) \n",
        "\n",
        "  target_language=\"en\"\n",
        "  target_max_size=10\n",
        "  documents_by_topics = solr.search(topics_query,fq='lang_s:'+filter_params['lang']+\" AND source_s:\"+filter_params['source'], rows=filter_params['size'])\n",
        "  return documents_by_topics\n",
        "\n",
        "def retrieve_documents(filter_params,threshold):\n",
        "  text = filter_params['text']\n",
        "  lang = get_language(text)\n",
        "  nlp = spacy.load(lang)\n",
        "  doc = nlp(text)\n",
        "  size = len(doc)\n",
        "  print(\"num words:\",size)\n",
        "  if (size < threshold):\n",
        "    return retrieve_documents_from_short_text(filter_params)\n",
        "  else:\n",
        "    return retrieve_documents_from_long_text(filter_params)\n"
      ],
      "execution_count": 0,
      "outputs": []
    },
    {
      "cell_type": "markdown",
      "metadata": {
        "id": "j1mgD4k1FCrF",
        "colab_type": "text"
      },
      "source": [
        "## Demo"
      ]
    },
    {
      "cell_type": "markdown",
      "metadata": {
        "id": "cY_QHGGTME7i",
        "colab_type": "text"
      },
      "source": [
        "[Search API](https://github.com/TBFY/search-API) can be used to search for tenders which are related to a procurement text. The language parameter `lang` follows the [ISO 639-1 Code](https://www.iso.org/iso-639-language-codes.html). The service currently supports the following languages: English (`en`), Spanish (`es`), French(`fr`), Italian(`it`) and Portuguese(`pt`).\n",
        "\n",
        "You can also choose the number of records you want to work with. By default, the notebook will work with 10 records."
      ]
    },
    {
      "cell_type": "code",
      "metadata": {
        "id": "p1JwiW6TAgve",
        "colab_type": "code",
        "cellView": "form",
        "colab": {}
      },
      "source": [
        "#@title Search Documents\n",
        "import requests\n",
        "import pandas as pd\n",
        "from IPython.display import display, HTML\n",
        "  \n",
        "text_input =  \"Lappalto ha per oggetto la fornitura di apparecchiature conformi alla normativa ECAC Standard 3 con velocita di movimento del nastro interno di almeno 05 msec.  per la rilevazione automatica di esplosivi EDS nei bagagli da stiva dei passeggeri in transito presso gli Aeroporti Milano Linate e Milano Malpensa.  Rientrano altresi nell'oggetto dell'appalto l'installazione e la manutenzione per un periodo di 10 dieci anni a decorrere dalla data di emissione del certificato di verifica di conformita delle apparecchiature fornite\"#@param {type:\"string\"}\n",
        "\n",
        "max_number = 5 #@param {type:\"slider\", min:1, max:10, step:1}\n",
        "\n",
        "language = \"es\" #@param [\"en\", \"es\", \"fr\", \"it\", \"pt\"] {type:\"string\"}   \n",
        "\n",
        "doc_type = \"tender\" #@param [\"tender\", \"jrc\"] {type:\"string\"}\n",
        "\n",
        "num_words_threshold = 100 #@param {type:\"slider\", min:50, max:150, step:1}\n",
        "\n",
        "request = {\"source\": doc_type, \"size\": str(max_number), \"text\" : text_input, \"lang\": language }\n",
        "\n",
        "df = pd.DataFrame(columns=['id', 'title'])\n",
        "i=0\n",
        "for document in retrieve_documents(request,num_words_threshold):\n",
        "  df.loc[i] = [document['id'],document['name_s']]\n",
        "  i+=1\n",
        "\n",
        "display(HTML(df.to_html(justify='center')))\n",
        "\n"
      ],
      "execution_count": 0,
      "outputs": []
    },
    {
      "cell_type": "markdown",
      "metadata": {
        "id": "xpC9n0Rbecve",
        "colab_type": "text"
      },
      "source": [
        "Once we have the list of related documents, we can directly use their `id` to read the resource in the Knowledge-Graph.\n",
        "\n",
        "The document identifiers, filtered by source (=tender), in the Search-API are the same as the `id` in the KG-API.\n",
        "\n",
        "The following procedure extracts the tender list from the obtained list of documents filtering only the completed ones.\n"
      ]
    },
    {
      "cell_type": "code",
      "metadata": {
        "id": "Rm08Mw15ezV4",
        "colab_type": "code",
        "cellView": "form",
        "colab": {}
      },
      "source": [
        "#@title Search Tenders\n",
        "\n",
        "def retrieve_tenders(request):\n",
        "  documents = retrieve_documents(request,100)\n",
        "  print(\"found\",len(documents),\"related tenders ..\")\n",
        "  tenders = []\n",
        "  for document in documents:\n",
        "    id = document['id']\n",
        "    tender = requests.get('https://tbfy.librairy.linkeddata.es/kg-api/tender/'+id).json()    \n",
        "    if (request['complete']):\n",
        "      if tender['status'] == \"complete\":\n",
        "        tenders.append(tender)\n",
        "    else:\n",
        "      tenders.append(tender)\n",
        "  return tenders\n",
        "\n",
        "text_input =  \"Lappalto ha per oggetto la fornitura di apparecchiature conformi alla normativa ECAC Standard 3 con velocita di movimento del nastro interno di almeno 05 msec.  per la rilevazione automatica di esplosivi EDS nei bagagli da stiva dei passeggeri in transito presso gli Aeroporti Milano Linate e Milano Malpensa.  Rientrano altresi nell'oggetto dell'appalto l'installazione e la manutenzione per un periodo di 10 dieci anni a decorrere dalla data di emissione del certificato di verifica di conformita delle apparecchiature fornite\"#@param {type:\"string\"}\n",
        "\n",
        "max_number = 5 #@param {type:\"slider\", min:1, max:10, step:1}\n",
        "\n",
        "completed = True #@param {type:\"boolean\"}\n",
        "\n",
        "language = \"es\" #@param [\"en\", \"es\", \"fr\", \"it\", \"pt\"] {type:\"string\"}   \n",
        "\n",
        "request = {\"source\": \"tender\", \"complete\":completed, \"size\": str(max_number), \"text\" : text_input, \"lang\": language }\n",
        "\n",
        "df = pd.DataFrame(columns=['id', 'status', 'name', 'description'])\n",
        "i=0\n",
        "for tender in retrieve_tenders(request):\n",
        "  df.loc[i] = [tender['id'],tender['status'],tender['title'],tender['description']]\n",
        "  i+=1\n",
        "\n",
        "display(HTML(df.to_html(justify='center')))"
      ],
      "execution_count": 0,
      "outputs": []
    },
    {
      "cell_type": "markdown",
      "metadata": {
        "id": "PuL6LgJTdLSk",
        "colab_type": "text"
      },
      "source": [
        "Once we have the list of similar tenders. In a first step we will obtain the list of contracting processes related to each tender and its related awards and, finally, the list of awaredees for these awards.\n",
        "\n",
        "Notice that some of them are shown as \"No named organisation\". This mean that the name and id of the organisation are not included in our database."
      ]
    },
    {
      "cell_type": "code",
      "metadata": {
        "id": "kh_TREjwhyBd",
        "colab_type": "code",
        "cellView": "form",
        "colab": {}
      },
      "source": [
        "#@title Search Organizations\n",
        "\n",
        "def get_contracting_process(tender_id):\n",
        "  resp = requests.get('https://tbfy.librairy.linkeddata.es/kg-api/tender/'+tender_id+\"/contractingProcess\")\n",
        "  if resp.status_code != 200:\n",
        "    # This means something went wrong.\n",
        "    print('GET /tender/contracting_process {}'.format(resp.status_code))\n",
        "    pass\n",
        "  return resp.json() \n",
        "\n",
        "def get_award(contracting_process_id):\n",
        "  resp = requests.get('https://tbfy.librairy.linkeddata.es/kg-api/contractingProcess/'+contracting_process_id+\"/award\")\n",
        "  if resp.status_code != 200:\n",
        "    # This means something went wrong.\n",
        "    print('GET /contracting_process {}'.format(resp.status_code))\n",
        "    pass\n",
        "  return resp.json() \n",
        "\n",
        "def get_supplier(award_id):\n",
        "  resp = requests.get('https://tbfy.librairy.linkeddata.es/kg-api/award/'+award_id+\"/supplier\")\n",
        "  if resp.status_code != 200:\n",
        "    # This means something went wrong.\n",
        "    print('GET /contracting_process {}'.format(resp.status_code))\n",
        "    pass\n",
        "  return resp.json() \n",
        "\n",
        "\n",
        "def retrieve_organizations(request):\n",
        "  organizations = []\n",
        "  tenders = retrieve_tenders(request)\n",
        "  for tender in tenders:\n",
        "    contracts = get_contracting_process(tender['id'])\n",
        "    if (len(contracts) == 0):\n",
        "      organization={}\n",
        "      organization['tender'] = tender['title']\n",
        "      organizations.append(organization)\n",
        "    else:\n",
        "      for contracting_process in contracts:\n",
        "        awards = get_award(contracting_process['id'])\n",
        "        if (len(awards) == 0):\n",
        "          organization={}\n",
        "          organization['tender'] = tender['title']\n",
        "          organization['contract'] = contracting_process['releasePublishedDate']\n",
        "          organizations.append(organization)\n",
        "        else:\n",
        "          for award in awards:\n",
        "            suppliers = get_supplier(award['id'])\n",
        "            if (len(suppliers) == 0):\n",
        "              organization={}\n",
        "              organization['tender'] = tender['title']\n",
        "              organization['contract'] = contracting_process['releasePublishedDate']\n",
        "              organization['award'] = award['title']\n",
        "              organizations.append(organization)\n",
        "            else: \n",
        "              for supplier in suppliers:\n",
        "                  organization={}\n",
        "                  organization['tender'] = tender['title']\n",
        "                  organization['contract'] = contracting_process['releasePublishedDate']\n",
        "                  organization['award'] = award['title']\n",
        "                  try:\n",
        "                    organization['organization']=supplier['legalName']                    \n",
        "                  except:\n",
        "                    organization['organization']=supplier['id']              \n",
        "                  organizations.append(organization)\n",
        "      print(\"contracts and awards successfully reviewed for tender\",len(organizations))\n",
        "  return organizations\n",
        "\n",
        "\n",
        "\n",
        "text_input =  \"Lappalto ha per oggetto la fornitura di apparecchiature conformi alla normativa ECAC Standard 3 con velocita di movimento del nastro interno di almeno 05 msec.  per la rilevazione automatica di esplosivi EDS nei bagagli da stiva dei passeggeri in transito presso gli Aeroporti Milano Linate e Milano Malpensa.  Rientrano altresi nell'oggetto dell'appalto l'installazione e la manutenzione per un periodo di 10 dieci anni a decorrere dalla data di emissione del certificato di verifica di conformita delle apparecchiature fornite\"#@param {type:\"string\"}\n",
        "\n",
        "max_number = 10 #@param {type:\"slider\", min:1, max:10, step:1}\n",
        "\n",
        "language = \"es\" #@param [\"en\", \"es\", \"fr\", \"it\", \"pt\"] {type:\"string\"}   \n",
        "\n",
        "request = {\"source\": \"tender\", \"complete\":True, \"size\": str(max_number), \"text\" : text_input, \"lang\": language }\n",
        "\n",
        "labels = ['organization', 'award', 'contract','tender']\n",
        "df = pd.DataFrame(columns=labels)\n",
        "i=0\n",
        "for organization in retrieve_organizations(request):\n",
        "  row = []\n",
        "  for label in labels:\n",
        "    if (label in organization):\n",
        "      row.append(organization[label])\n",
        "    else:\n",
        "      row.append('unknown')\n",
        "  df.loc[i] = row\n",
        "  i+=1\n",
        "\n",
        "display(HTML(df.to_html(justify='center')))\n"
      ],
      "execution_count": 0,
      "outputs": []
    }
  ]
}